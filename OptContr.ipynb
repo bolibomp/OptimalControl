{
  "nbformat": 4,
  "nbformat_minor": 0,
  "metadata": {
    "colab": {
      "name": "OptContr.ipynb",
      "provenance": []
    },
    "kernelspec": {
      "name": "python3",
      "display_name": "Python 3"
    },
    "language_info": {
      "name": "python"
    }
  },
  "cells": [
    {
      "cell_type": "markdown",
      "source": [
        "We have the optimal control problem\n",
        "\\begin{align}\n",
        "&\\underset{u}{\\mathrm{min}}\\,\\, -x(1)-\\int_{-1}^{1}(1-u(t))x(t)dt\\\\\n",
        "&\\textrm{s.t.}\\,\\,  \\dot{x}(t)=\\frac{1}{2}u(t)x(t)\\\\\n",
        "&x(-1)=1\\\\\n",
        "&u(t)\\in [0,1]\n",
        "\\end{align}\n",
        "\n",
        "\n",
        "I will solve this using first Hamilton-Jacobi-Bellman equation, then Pontryagin's minimum principle. Then lastly using the package Gekko."
      ],
      "metadata": {
        "id": "uzzX5rekqH1c"
      }
    },
    {
      "cell_type": "markdown",
      "source": [
        "#Hamilton-Jacobi-Bellman equation\n",
        "\n",
        "\n",
        "1) We have the Hamiltonian\n",
        "\\begin{align}\n",
        "H(t,x,u,\\lambda) = -(1-u)x+\\frac{1}{2}\\lambda ux\n",
        "\\end{align}\n",
        "\n",
        "2) The pointwise optimization\n",
        "\\begin{align}\n",
        "\\mu(t,x,\\lambda) &= \\underset{u}{\\mathrm{argmin}}\\,\\,H = \\underset{u}{\\mathrm{argmin}}\\,\\,(-(1-u)x+\\frac{1}{2}\\lambda ux)\\\\\n",
        "&= \\underset{u}{\\mathrm{argmin}}\\,\\,((1+\\frac{1}{2}\\lambda)ux-x)\\\\\n",
        "&= \\underset{u}{\\mathrm{argmin}}\\,\\,((1+\\frac{1}{2}\\lambda)ux)\\\\\n",
        "&=\\begin{cases}\n",
        "1&,\\quad \\text{if}\\,\\,(1+\\frac{1}{2}\\lambda)x <0\\\\\n",
        "0&,\\quad \\text{if}\\,\\,(1+\\frac{1}{2}\\lambda)x >0\\\\\n",
        "\\text{any} \\in [0,1] &,\\quad \\text{if}\\,\\,(1+\\frac{1}{2}\\lambda)x =0\\\\\n",
        "\\end{cases}\n",
        "\\end{align}\n",
        "The optimal control is\n",
        "\\begin{align}\n",
        "u^*(t) = \\mu(t,x,V_x) = \\begin{cases}\n",
        "1&,\\quad \\text{if}\\,\\,(1+\\frac{1}{2}V_x)x <0\\\\\n",
        "0&,\\quad \\text{if}\\,\\,(1+\\frac{1}{2}V_x)x >0\\\\\n",
        "\\text{any} \\in [0,1] &,\\quad \\text{if}\\,\\,(1+\\frac{1}{2}V_x)x =0\\\\\n",
        "\\end{cases}\n",
        "\\end{align}\n",
        "But we have that $x(t)>0 \\,\\, \\forall t$ since we the constraints\n",
        "\\begin{align}\n",
        "\\dot{x}(t)&=u(t)x(t)\\\\\n",
        "x(-1)&=1\\\\\n",
        "u(t)&\\in [0,1]\n",
        "\\end{align}\n",
        "We can rewrite the optimal control as\n",
        "\\begin{align}\n",
        "u^*(t) = \\begin{cases}\n",
        "1&,\\quad \\text{if}\\,\\,\\frac{1}{2}V_x <-1\\\\\n",
        "0&,\\quad \\text{if}\\,\\,\\frac{1}{2}V_x >-1\\\\\n",
        "\\text{any} \\in [0,1] &,\\quad \\text{if}\\,\\,\\frac{1}{2}V_x=-1\\\\\n",
        "\\end{cases}\n",
        "\\end{align}\n",
        "3) The Hamilton-Jacobi-Bellman equation becomes\n",
        "\\begin{align}\n",
        "-V_t &= H(t,x,\\mu(t,x,V_x),V_x) \\Rightarrow \n",
        "\\begin{cases}\n",
        "V_t = -\\frac{1}{2}V_x x,\\quad \\text{if} \\,\\,(1+\\frac{1}{2}V_x)x <0 \\\\\n",
        "V_t = x,\\quad \\text{if}\\,\\,(1+\\frac{1}{2}V_x)x >0\n",
        "\\end{cases}\\\\\n",
        "&\\textrm{s.t.}\\,\\, V(x,1)=-x\n",
        "\\end{align}\n",
        "\n",
        "\n",
        "Lets try seperation of variables $V(x,t)=X(x)T(t)$\n",
        "\\begin{align}\n",
        "\\begin{cases}\n",
        "X(x)T'(t) = -\\frac{1}{2}X'(x)T(t) x,\\quad \\text{if} \\,\\,(1+\\frac{1}{2}X'(x)T(t))x <0 \\\\\n",
        "X(x)T'(t) = x,\\quad \\text{if}\\,\\,(1+\\frac{1}{2}X'(x)T(t))x >0\n",
        "\\end{cases}\\\\\n",
        "\\end{align}\n",
        "\n",
        "The first equation can be rewritten as\n",
        "\\begin{align}\n",
        "X(x)T'(t) &= -\\frac{1}{2}X'(x)T(t)x\\\\\n",
        "-\\frac{T'(t)}{T(t)}&=\\frac{1}{2}\\frac{X'(x)x}{X(x)}=\\alpha\n",
        "\\end{align}\n",
        "where $\\alpha$ is some constant since both side only depende on its own respective variable.\n",
        "Solving these ordinary differential equations is very straight forward.\n",
        "\\begin{align}\n",
        "\\begin{cases}\n",
        "T(t) &=b e^{-\\alpha t} \\\\\n",
        "X(x) &=c x^{2\\alpha}\n",
        "\\end{cases}\n",
        "\\Rightarrow V(x,t) = de^{-\\alpha t}x^{2\\alpha} \\quad \\text{if} \\,\\, 2\\alpha\\, d\\, e^{-\\alpha t} x^{2\\alpha - 1}<-1\n",
        "\\end{align}\n",
        "where $d=bc$.\n",
        "\n",
        "The second equation can be rewritten as\n",
        "\\begin{align}\n",
        "X(x)T'(t) &= x\\\\\n",
        "T'(t)&=\\frac{x}{X(x)}=\\beta\n",
        "\\end{align}\n",
        "where $\\beta$ is some constant since both side only depende on its own respective variable.\n",
        "Solving these ordinary differential equations is very straight forward.\n",
        "\\begin{align}\n",
        "\\begin{cases}\n",
        "T(t) &=\\beta t+a \\\\\n",
        "X(x) &=x / \\beta\n",
        "\\end{cases}\n",
        "\\Rightarrow V(x,t) = x\\left(\\frac{a}{\\beta}+t\\right) \\quad \\text{if} \\,\\, \\frac{a+\\beta t}{2\\beta}>-1\n",
        "\\end{align}\n",
        "\n",
        "\n",
        "Now we have to find out which of these two \"V's\" is the one that the boundary condition applies to.\n",
        "\n",
        "We can start with the second equation. \n",
        "\n",
        "\\begin{align}\n",
        "V(x,1) &= -x = x\\left(\\frac{a}{\\beta}+1\\right) \\Rightarrow \\beta = -a/2\n",
        "\\end{align}\n",
        "Lets plug that into the interval condition\n",
        "\\begin{align}\n",
        "\\frac{t-2}{2}>-1 \\Rightarrow t>0\n",
        "\\end{align}\n",
        "We see that the switch point is $t=0$ and that our second equation becomes\n",
        "\n",
        "\\begin{align}\n",
        "V(x,t) &= x\\left(-2+t\\right) \\quad \\text{if} \\,\\, t>0\n",
        "\\end{align}\n",
        "\n",
        "Now we can use this as a boundary condition for the first equation\n",
        "\n",
        "\\begin{align}\n",
        "V(x,0) &= de^{0}x^{2\\alpha} = -2x \\Rightarrow \\alpha = 1/2\\, , d=-2\n",
        "\\end{align}\n",
        "\n",
        "Finally we have have\n",
        "\\begin{align}\n",
        "V(x,t) = \n",
        "\\begin{cases}\n",
        "&-2e^{-t/2}x \\quad \\text{if} \\,\\,t<0\\\\\n",
        "&\\left(-2+t\\right)x \\quad \\text{if} \\,\\, t>0\n",
        "\\end{cases}\n",
        "\\end{align}\n",
        "and the optimal control\n",
        "\\begin{align}\n",
        "u^*(t,x(t)) = \n",
        "\\begin{cases}\n",
        "&1 \\quad \\text{if} \\,\\,t<0\\\\\n",
        "&0 \\quad \\text{if} \\,\\, t>0\n",
        "\\end{cases}\n",
        "\\end{align}\n",
        "Lets plot the results"
      ],
      "metadata": {
        "id": "dBAPHKh0sI7K"
      }
    },
    {
      "cell_type": "code",
      "source": [
        "import numpy as np\n",
        "import matplotlib.pyplot as plt"
      ],
      "metadata": {
        "id": "121i1fTL5Ahf"
      },
      "execution_count": 20,
      "outputs": []
    },
    {
      "cell_type": "code",
      "source": [
        "h = 0.001\n",
        "t = np.arange(-1,1,h)\n",
        "n = len(t)\n",
        "\n",
        "def u(t):\n",
        "  if t<0:\n",
        "    return int(1)\n",
        "  if t>=0:\n",
        "    return int(0)\n",
        "\n",
        "def f(x,t):\n",
        "  return 1/2*x*u(t)\n",
        "\n",
        "def xdiff():\n",
        "  xn = [1]\n",
        "  t0 = -1\n",
        "  for i in range(n):\n",
        "    k1 = h * f(xn[i],t0)\n",
        "    k2 = h * f(xn[i]+k1/2,t0+h/2)\n",
        "    k3 = h * f(xn[i]+k2/2,t0+h/2)\n",
        "    k4 = h * f(xn[i]+k3,t0+h)\n",
        "    k = (k1+2*k2+2*k3+k4)/6\n",
        "    xn.append(xn[i] + k)\n",
        "    \n",
        "    t0 = t0+h\n",
        "\n",
        "  return xn[:-1]"
      ],
      "metadata": {
        "id": "GDGzUwI36rK_"
      },
      "execution_count": 21,
      "outputs": []
    },
    {
      "cell_type": "code",
      "source": [
        "plt.plot(t,[u(t) for t in t], color ='r', label=r'u(t)')\n",
        "plt.plot(t,xdiff(), color ='b', label=r'x(t)')\n",
        "plt.legend()\n",
        "plt.title('Hamilton-Jacobi-Bellman')\n",
        "plt.xlabel('t',fontsize = 12)\n",
        "plt.show()"
      ],
      "metadata": {
        "colab": {
          "base_uri": "https://localhost:8080/",
          "height": 298
        },
        "id": "6TtNjvnSAEn9",
        "outputId": "798af3de-dfa0-41cd-d243-bd6b930a23e9"
      },
      "execution_count": 22,
      "outputs": [
        {
          "output_type": "display_data",
          "data": {
            "text/plain": [
              "<Figure size 432x288 with 1 Axes>"
            ],
            "image/png": "[encoded data removed]"
          },
          "metadata": {
            "needs_background": "light"
          }
        }
      ]
    },
    {
      "cell_type": "markdown",
      "source": [
        " # Pontryagin's minimum principle\n",
        " \n",
        "\n",
        "1) We have the Hamiltonian\n",
        "\\begin{align}\n",
        "H(t,x,u,\\lambda) = -(1-u)x+\\frac{1}{2}\\lambda ux\n",
        "\\end{align}\n",
        "\n",
        "2) The pointwise optimization\n",
        "\\begin{align}\n",
        "u^*(t)=\\mu(t,x,\\lambda) &= \\underset{u}{\\mathrm{argmin}}\\,\\,H = \\underset{u}{\\mathrm{argmin}}\\,\\,(-(1-u)x+\\frac{1}{2}\\lambda ux)\\\\\n",
        "&= \\underset{u}{\\mathrm{argmin}}\\,\\,((1+\\frac{1}{2}\\lambda)ux-x)\\\\\n",
        "&= \\underset{u}{\\mathrm{argmin}}\\,\\,((1+\\frac{1}{2}\\lambda)ux)\\\\\n",
        "&=\\begin{cases}\n",
        "1&,\\quad \\text{if}\\,\\,(1+\\frac{1}{2}\\lambda) <0\\\\\n",
        "0&,\\quad \\text{if}\\,\\,(1+\\frac{1}{2}\\lambda) >0\\\\\n",
        "\\text{any} \\in [0,1] &,\\quad \\text{if}\\,\\,(1+\\frac{1}{2}\\lambda) =0\\\\\n",
        "\\end{cases}\n",
        "\\end{align}\n",
        "\n",
        "3) The adjoint equation\n",
        "\\begin{align}\n",
        "\\dot{\\lambda} &= -\\frac{\\partial}{\\partial x}H(t,x,u^*,\\lambda)\\\\\n",
        "&=(1-u^*)-\\frac{1}{2}\\lambda u^*\\\\\n",
        "&=\\begin{cases}\n",
        "-\\lambda/2 &,\\quad \\text{if}\\,\\, u^*=1\\,\\, (1+\\frac{1}{2}\\lambda) <0\\\\\n",
        "1 &,\\quad \\text{if}\\,\\, u^*=0\\,\\, (1+\\frac{1}{2}\\lambda) >0\\\\\n",
        "1 &,\\quad \\text{if}\\,\\, 1+\\frac{1}{2}\\lambda =0\\\\\n",
        "\\end{cases}\n",
        "\\end{align}\n",
        "with the boundary condition\n",
        "\\begin{align}\n",
        "\\lambda(1)=-1\n",
        "\\end{align}\n",
        "\n",
        "Let look at the switching condition at the boundary\n",
        "\\begin{align}\n",
        "1+\\frac{1}{2}\\lambda(1)=1-\\frac{1}{2}>0\n",
        "\\end{align}\n",
        "this means that $u^*=0$ at the boundary\n",
        "\n",
        "Lets solve \n",
        "\\begin{align}\n",
        "\\dot{\\lambda}=1 \\Rightarrow \\lambda(t) = t-2\n",
        "\\end{align}\n",
        "using the boundary condition to determine the constant of integration.\n",
        "\n",
        "Lets solve \n",
        "\\begin{align}\n",
        "\\dot{\\lambda}= -\\lambda/2\\Rightarrow \\lambda = c e^{-t/2}\n",
        "\\end{align}\n",
        "We know that the switch happens at $1+\\lambda/2 = 0$. That means\n",
        "\\begin{align}\n",
        "1+\\frac{t-2}{2}=0 \\Rightarrow t = 0\n",
        "\\end{align}\n",
        "We can now determine the last constant\n",
        "\\begin{align}\n",
        "c e^{0}=0-2 \\Rightarrow d=-2\n",
        "\\end{align}\n",
        "The optimal control is\n",
        "\\begin{align}\n",
        "u^*(t,x(t)) = \n",
        "\\begin{cases}\n",
        "&1 \\quad \\text{if} \\,\\,t<0\\\\\n",
        "&0 \\quad \\text{if} \\,\\, t>0\n",
        "\\end{cases}\n",
        "\\end{align}\n",
        "which is the same as for the HJB case and we therefore dont need to plot it once more"
      ],
      "metadata": {
        "id": "jwwx4l_tprZI"
      }
    },
    {
      "cell_type": "code",
      "source": [
        "!pip install gekko"
      ],
      "metadata": {
        "colab": {
          "base_uri": "https://localhost:8080/"
        },
        "id": "VaDtebynIU04",
        "outputId": "9b9070a2-6f19-4fcb-9d7e-fef49250feed"
      },
      "execution_count": 23,
      "outputs": [
        {
          "output_type": "stream",
          "name": "stdout",
          "text": [
            "Looking in indexes: https://pypi.org/simple, https://us-python.pkg.dev/colab-wheels/public/simple/\n",
            "Requirement already satisfied: gekko in /usr/local/lib/python3.7/dist-packages (1.0.4)\n",
            "Requirement already satisfied: numpy>=1.8 in /usr/local/lib/python3.7/dist-packages (from gekko) (1.21.6)\n"
          ]
        }
      ]
    },
    {
      "cell_type": "code",
      "source": [
        "from gekko import GEKKO\n",
        "\n",
        "m = GEKKO()\n",
        "nt = 1001\n",
        "m.time = np.linspace(-1,1,nt)\n",
        "\n",
        "x1 = m.Var(value=1)\n",
        "x2 = m.Var(value=-1)\n",
        "u = m.Var(value=0,lb=0,ub=1)\n",
        "\n",
        "p = np.zeros(nt) # mark final time point\n",
        "p[-1] = 1.0\n",
        "\n",
        "final = m.Param(value=p)\n",
        "\n",
        "m.Equation(x1.dt()==1/2*u*x1)\n",
        "m.Equation(x2.dt()==-(1-u)*x1)\n",
        "\n",
        "m.Obj(x2*final-x1*final)\n",
        "\n",
        "m.options.IMODE = 6 \n",
        "m.solve(disp=False) \n",
        "\n",
        "\n",
        "plt.plot(m.time,x1.value,'b',label=r'x(t)')\n",
        "plt.plot(m.time,u.value,'r',label=r'u(t)')\n",
        "plt.title('Numerically')\n",
        "plt.legend()\n",
        "plt.xlabel('t',fontsize = 12)\n",
        "plt.show()"
      ],
      "metadata": {
        "colab": {
          "base_uri": "https://localhost:8080/",
          "height": 298
        },
        "id": "Nbz5Ox1YKXSR",
        "outputId": "94e92829-fdab-4996-b871-83efe2b249be"
      },
      "execution_count": 24,
      "outputs": [
        {
          "output_type": "display_data",
          "data": {
            "text/plain": [
              "<Figure size 432x288 with 1 Axes>"
            ],
            "image/png": "[encoded data removed]"
          },
          "metadata": {
            "needs_background": "light"
          }
        }
      ]
    }
  ]
}
